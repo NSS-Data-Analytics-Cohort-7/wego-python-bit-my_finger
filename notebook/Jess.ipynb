{
 "cells": [
  {
   "cell_type": "code",
   "execution_count": 1,
   "metadata": {},
   "outputs": [],
   "source": [
    "import pandas as pd\n",
    "import matplotlib.pyplot as plt\n",
    "import seaborn as sns"
   ]
  },
  {
   "cell_type": "code",
   "execution_count": 9,
   "metadata": {},
   "outputs": [],
   "source": [
    "wego = pd.read_csv('../data/Headway_Data.csv')"
   ]
  },
  {
   "cell_type": "code",
   "execution_count": 10,
   "metadata": {},
   "outputs": [],
   "source": [
    "bna = pd.read_csv('../data/bna_weather.csv')"
   ]
  },
  {
   "cell_type": "code",
   "execution_count": 13,
   "metadata": {},
   "outputs": [
    {
     "data": {
      "text/html": [
       "<div>\n",
       "<style scoped>\n",
       "    .dataframe tbody tr th:only-of-type {\n",
       "        vertical-align: middle;\n",
       "    }\n",
       "\n",
       "    .dataframe tbody tr th {\n",
       "        vertical-align: top;\n",
       "    }\n",
       "\n",
       "    .dataframe thead th {\n",
       "        text-align: right;\n",
       "    }\n",
       "</style>\n",
       "<table border=\"1\" class=\"dataframe\">\n",
       "  <thead>\n",
       "    <tr style=\"text-align: right;\">\n",
       "      <th></th>\n",
       "      <th>CALENDAR_ID</th>\n",
       "      <th>SERVICE_ABBR</th>\n",
       "      <th>ADHERENCE_ID</th>\n",
       "      <th>DATE</th>\n",
       "      <th>ROUTE_ABBR</th>\n",
       "      <th>BLOCK_ABBR</th>\n",
       "      <th>OPERATOR</th>\n",
       "      <th>TRIP_ID</th>\n",
       "      <th>OVERLOAD_ID</th>\n",
       "      <th>ROUTE_DIRECTION_NAME</th>\n",
       "      <th>...</th>\n",
       "      <th>ACTUAL_HDWY</th>\n",
       "      <th>HDWY_DEV</th>\n",
       "      <th>ADJUSTED_EARLY_COUNT</th>\n",
       "      <th>ADJUSTED_LATE_COUNT</th>\n",
       "      <th>ADJUSTED_ONTIME_COUNT</th>\n",
       "      <th>STOP_CANCELLED</th>\n",
       "      <th>PREV_SCHED_STOP_CANCELLED</th>\n",
       "      <th>IS_RELIEF</th>\n",
       "      <th>BLOCK_STOP_ORDER</th>\n",
       "      <th>DWELL_IN_MINS</th>\n",
       "    </tr>\n",
       "  </thead>\n",
       "  <tbody>\n",
       "    <tr>\n",
       "      <th>0</th>\n",
       "      <td>120211101</td>\n",
       "      <td>1</td>\n",
       "      <td>76447164</td>\n",
       "      <td>2021-11-01</td>\n",
       "      <td>7</td>\n",
       "      <td>1704</td>\n",
       "      <td>2088</td>\n",
       "      <td>297750</td>\n",
       "      <td>0</td>\n",
       "      <td>TO DOWNTOWN</td>\n",
       "      <td>...</td>\n",
       "      <td>15.983333</td>\n",
       "      <td>1.983333</td>\n",
       "      <td>0</td>\n",
       "      <td>0</td>\n",
       "      <td>1</td>\n",
       "      <td>0</td>\n",
       "      <td>0.0</td>\n",
       "      <td>0</td>\n",
       "      <td>2</td>\n",
       "      <td>12.650000</td>\n",
       "    </tr>\n",
       "    <tr>\n",
       "      <th>1</th>\n",
       "      <td>120211101</td>\n",
       "      <td>1</td>\n",
       "      <td>76447165</td>\n",
       "      <td>2021-11-01</td>\n",
       "      <td>7</td>\n",
       "      <td>1704</td>\n",
       "      <td>2088</td>\n",
       "      <td>297750</td>\n",
       "      <td>0</td>\n",
       "      <td>TO DOWNTOWN</td>\n",
       "      <td>...</td>\n",
       "      <td>17.333333</td>\n",
       "      <td>3.333333</td>\n",
       "      <td>0</td>\n",
       "      <td>0</td>\n",
       "      <td>1</td>\n",
       "      <td>0</td>\n",
       "      <td>0.0</td>\n",
       "      <td>0</td>\n",
       "      <td>11</td>\n",
       "      <td>0.000000</td>\n",
       "    </tr>\n",
       "    <tr>\n",
       "      <th>2</th>\n",
       "      <td>120211101</td>\n",
       "      <td>1</td>\n",
       "      <td>76447166</td>\n",
       "      <td>2021-11-01</td>\n",
       "      <td>7</td>\n",
       "      <td>1704</td>\n",
       "      <td>2088</td>\n",
       "      <td>297750</td>\n",
       "      <td>0</td>\n",
       "      <td>TO DOWNTOWN</td>\n",
       "      <td>...</td>\n",
       "      <td>NaN</td>\n",
       "      <td>NaN</td>\n",
       "      <td>0</td>\n",
       "      <td>1</td>\n",
       "      <td>0</td>\n",
       "      <td>0</td>\n",
       "      <td>NaN</td>\n",
       "      <td>0</td>\n",
       "      <td>23</td>\n",
       "      <td>22.416666</td>\n",
       "    </tr>\n",
       "    <tr>\n",
       "      <th>3</th>\n",
       "      <td>120211101</td>\n",
       "      <td>1</td>\n",
       "      <td>76447167</td>\n",
       "      <td>2021-11-01</td>\n",
       "      <td>50</td>\n",
       "      <td>1704</td>\n",
       "      <td>2088</td>\n",
       "      <td>297749</td>\n",
       "      <td>0</td>\n",
       "      <td>TO DOWNTOWN</td>\n",
       "      <td>...</td>\n",
       "      <td>NaN</td>\n",
       "      <td>NaN</td>\n",
       "      <td>0</td>\n",
       "      <td>0</td>\n",
       "      <td>1</td>\n",
       "      <td>0</td>\n",
       "      <td>0.0</td>\n",
       "      <td>0</td>\n",
       "      <td>24</td>\n",
       "      <td>5.766666</td>\n",
       "    </tr>\n",
       "    <tr>\n",
       "      <th>4</th>\n",
       "      <td>120211101</td>\n",
       "      <td>1</td>\n",
       "      <td>76447168</td>\n",
       "      <td>2021-11-01</td>\n",
       "      <td>50</td>\n",
       "      <td>1704</td>\n",
       "      <td>2088</td>\n",
       "      <td>297749</td>\n",
       "      <td>0</td>\n",
       "      <td>TO DOWNTOWN</td>\n",
       "      <td>...</td>\n",
       "      <td>NaN</td>\n",
       "      <td>NaN</td>\n",
       "      <td>0</td>\n",
       "      <td>0</td>\n",
       "      <td>1</td>\n",
       "      <td>0</td>\n",
       "      <td>NaN</td>\n",
       "      <td>0</td>\n",
       "      <td>25</td>\n",
       "      <td>0.000000</td>\n",
       "    </tr>\n",
       "  </tbody>\n",
       "</table>\n",
       "<p>5 rows × 30 columns</p>\n",
       "</div>"
      ],
      "text/plain": [
       "   CALENDAR_ID  SERVICE_ABBR  ADHERENCE_ID        DATE  ROUTE_ABBR  \\\n",
       "0    120211101             1      76447164  2021-11-01           7   \n",
       "1    120211101             1      76447165  2021-11-01           7   \n",
       "2    120211101             1      76447166  2021-11-01           7   \n",
       "3    120211101             1      76447167  2021-11-01          50   \n",
       "4    120211101             1      76447168  2021-11-01          50   \n",
       "\n",
       "   BLOCK_ABBR  OPERATOR  TRIP_ID  OVERLOAD_ID ROUTE_DIRECTION_NAME  ...  \\\n",
       "0        1704      2088   297750            0          TO DOWNTOWN  ...   \n",
       "1        1704      2088   297750            0          TO DOWNTOWN  ...   \n",
       "2        1704      2088   297750            0          TO DOWNTOWN  ...   \n",
       "3        1704      2088   297749            0          TO DOWNTOWN  ...   \n",
       "4        1704      2088   297749            0          TO DOWNTOWN  ...   \n",
       "\n",
       "  ACTUAL_HDWY  HDWY_DEV  ADJUSTED_EARLY_COUNT  ADJUSTED_LATE_COUNT  \\\n",
       "0   15.983333  1.983333                     0                    0   \n",
       "1   17.333333  3.333333                     0                    0   \n",
       "2         NaN       NaN                     0                    1   \n",
       "3         NaN       NaN                     0                    0   \n",
       "4         NaN       NaN                     0                    0   \n",
       "\n",
       "   ADJUSTED_ONTIME_COUNT STOP_CANCELLED PREV_SCHED_STOP_CANCELLED IS_RELIEF  \\\n",
       "0                      1              0                       0.0         0   \n",
       "1                      1              0                       0.0         0   \n",
       "2                      0              0                       NaN         0   \n",
       "3                      1              0                       0.0         0   \n",
       "4                      1              0                       NaN         0   \n",
       "\n",
       "   BLOCK_STOP_ORDER  DWELL_IN_MINS  \n",
       "0                 2      12.650000  \n",
       "1                11       0.000000  \n",
       "2                23      22.416666  \n",
       "3                24       5.766666  \n",
       "4                25       0.000000  \n",
       "\n",
       "[5 rows x 30 columns]"
      ]
     },
     "execution_count": 13,
     "metadata": {},
     "output_type": "execute_result"
    }
   ],
   "source": [
    "wego.head()\n"
   ]
  },
  {
   "cell_type": "code",
   "execution_count": 18,
   "metadata": {},
   "outputs": [
    {
     "data": {
      "text/plain": [
       "2312    50892\n",
       "2310    49518\n",
       "300     45464\n",
       "5004    45164\n",
       "2311    44900\n",
       "        ...  \n",
       "5090       14\n",
       "5695        8\n",
       "5694        8\n",
       "5692        2\n",
       "5691        2\n",
       "Name: BLOCK_ABBR, Length: 113, dtype: int64"
      ]
     },
     "execution_count": 18,
     "metadata": {},
     "output_type": "execute_result"
    }
   ],
   "source": [
    "wego['BLOCK_ABBR'].value_counts()"
   ]
  },
  {
   "cell_type": "code",
   "execution_count": 19,
   "metadata": {},
   "outputs": [
    {
     "data": {
      "text/plain": [
       "55    362259\n",
       "56    355098\n",
       "52    291150\n",
       "23    250787\n",
       "50    249880\n",
       "3     216446\n",
       "22    153074\n",
       "7     103021\n",
       "Name: ROUTE_ABBR, dtype: int64"
      ]
     },
     "execution_count": 19,
     "metadata": {},
     "output_type": "execute_result"
    }
   ],
   "source": [
    "wego['ROUTE_ABBR'].value_counts()"
   ]
  },
  {
   "cell_type": "code",
   "execution_count": 20,
   "metadata": {},
   "outputs": [
    {
     "name": "stdout",
     "output_type": "stream",
     "text": [
      "<class 'pandas.core.frame.DataFrame'>\n",
      "RangeIndex: 1981715 entries, 0 to 1981714\n",
      "Data columns (total 30 columns):\n",
      " #   Column                     Dtype  \n",
      "---  ------                     -----  \n",
      " 0   CALENDAR_ID                int64  \n",
      " 1   SERVICE_ABBR               int64  \n",
      " 2   ADHERENCE_ID               int64  \n",
      " 3   DATE                       object \n",
      " 4   ROUTE_ABBR                 int64  \n",
      " 5   BLOCK_ABBR                 int64  \n",
      " 6   OPERATOR                   int64  \n",
      " 7   TRIP_ID                    int64  \n",
      " 8   OVERLOAD_ID                int64  \n",
      " 9   ROUTE_DIRECTION_NAME       object \n",
      " 10  TIME_POINT_ABBR            object \n",
      " 11  ROUTE_STOP_SEQUENCE        float64\n",
      " 12  TRIP_EDGE                  int64  \n",
      " 13  LATITUDE                   float64\n",
      " 14  LONGITUDE                  float64\n",
      " 15  SCHEDULED_TIME             object \n",
      " 16  ACTUAL_ARRIVAL_TIME        object \n",
      " 17  ACTUAL_DEPARTURE_TIME      object \n",
      " 18  ADHERENCE                  float64\n",
      " 19  SCHEDULED_HDWY             float64\n",
      " 20  ACTUAL_HDWY                float64\n",
      " 21  HDWY_DEV                   float64\n",
      " 22  ADJUSTED_EARLY_COUNT       int64  \n",
      " 23  ADJUSTED_LATE_COUNT        int64  \n",
      " 24  ADJUSTED_ONTIME_COUNT      int64  \n",
      " 25  STOP_CANCELLED             int64  \n",
      " 26  PREV_SCHED_STOP_CANCELLED  float64\n",
      " 27  IS_RELIEF                  int64  \n",
      " 28  BLOCK_STOP_ORDER           int64  \n",
      " 29  DWELL_IN_MINS              float64\n",
      "dtypes: float64(9), int64(15), object(6)\n",
      "memory usage: 453.6+ MB\n"
     ]
    }
   ],
   "source": [
    "wego.info()"
   ]
  },
  {
   "cell_type": "code",
   "execution_count": 21,
   "metadata": {},
   "outputs": [
    {
     "data": {
      "text/plain": [
       "count        1927332\n",
       "unique         74937\n",
       "top       14:05:06  \n",
       "freq              81\n",
       "Name: ACTUAL_ARRIVAL_TIME, dtype: object"
      ]
     },
     "execution_count": 21,
     "metadata": {},
     "output_type": "execute_result"
    }
   ],
   "source": [
    "wego['ACTUAL_ARRIVAL_TIME'].describe()"
   ]
  },
  {
   "cell_type": "code",
   "execution_count": 22,
   "metadata": {},
   "outputs": [
    {
     "data": {
      "text/plain": [
       "count    1.507891e+06\n",
       "mean     1.898972e+01\n",
       "std      1.395040e+01\n",
       "min      0.000000e+00\n",
       "25%      1.101667e+01\n",
       "50%      1.618333e+01\n",
       "75%      2.306667e+01\n",
       "max      1.084617e+03\n",
       "Name: ACTUAL_HDWY, dtype: float64"
      ]
     },
     "execution_count": 22,
     "metadata": {},
     "output_type": "execute_result"
    }
   ],
   "source": [
    "wego['ACTUAL_HDWY'].describe()"
   ]
  },
  {
   "cell_type": "code",
   "execution_count": 28,
   "metadata": {},
   "outputs": [
    {
     "data": {
      "text/plain": [
       " 0.000000      5276\n",
       "-0.100000      4636\n",
       "-0.033334      4592\n",
       "-0.016667      4590\n",
       " 0.033333      4554\n",
       "               ... \n",
       " 50.900000        1\n",
       " 70.233333        1\n",
       " 100.000000       1\n",
       " 34.033333        1\n",
       "-33.633334        1\n",
       "Name: HDWY_DEV, Length: 6019, dtype: int64"
      ]
     },
     "execution_count": 28,
     "metadata": {},
     "output_type": "execute_result"
    }
   ],
   "source": [
    "wego['HDWY_DEV'].value_counts()"
   ]
  },
  {
   "cell_type": "code",
   "execution_count": 30,
   "metadata": {},
   "outputs": [
    {
     "ename": "ModuleNotFoundError",
     "evalue": "No module named 'geopandas'",
     "output_type": "error",
     "traceback": [
      "\u001b[1;31m---------------------------------------------------------------------------\u001b[0m",
      "\u001b[1;31mModuleNotFoundError\u001b[0m                       Traceback (most recent call last)",
      "\u001b[1;32m<ipython-input-30-5a071bdd4a18>\u001b[0m in \u001b[0;36m<module>\u001b[1;34m\u001b[0m\n\u001b[0;32m      1\u001b[0m \u001b[1;32mimport\u001b[0m \u001b[0mpandas\u001b[0m \u001b[1;32mas\u001b[0m \u001b[0mpd\u001b[0m\u001b[1;33m\u001b[0m\u001b[1;33m\u001b[0m\u001b[0m\n\u001b[1;32m----> 2\u001b[1;33m \u001b[1;32mimport\u001b[0m \u001b[0mgeopandas\u001b[0m \u001b[1;32mas\u001b[0m \u001b[0mgpd\u001b[0m\u001b[1;33m\u001b[0m\u001b[1;33m\u001b[0m\u001b[0m\n\u001b[0m\u001b[0;32m      3\u001b[0m \u001b[1;32mimport\u001b[0m \u001b[0mmatplotlib\u001b[0m\u001b[1;33m.\u001b[0m\u001b[0mpyplot\u001b[0m \u001b[1;32mas\u001b[0m \u001b[0mplt\u001b[0m\u001b[1;33m\u001b[0m\u001b[1;33m\u001b[0m\u001b[0m\n\u001b[0;32m      4\u001b[0m \u001b[1;32mimport\u001b[0m \u001b[0mfolium\u001b[0m\u001b[1;33m\u001b[0m\u001b[1;33m\u001b[0m\u001b[0m\n\u001b[0;32m      5\u001b[0m \u001b[1;32mfrom\u001b[0m \u001b[0mfolium\u001b[0m\u001b[1;33m.\u001b[0m\u001b[0mplugins\u001b[0m \u001b[1;32mimport\u001b[0m \u001b[0mMarkerCluster\u001b[0m\u001b[1;33m\u001b[0m\u001b[1;33m\u001b[0m\u001b[0m\n",
      "\u001b[1;31mModuleNotFoundError\u001b[0m: No module named 'geopandas'"
     ]
    }
   ],
   "source": [
    "from shapely.geometry import Point\n",
    "import pandas as pd\n",
    "import geopandas as gpd\n",
    "import matplotlib.pyplot as plt\n",
    "import folium\n",
    "from folium.plugins import MarkerCluster\n",
    "from folium.plugins import FastMarkerCluster"
   ]
  },
  {
   "cell_type": "code",
   "execution_count": 14,
   "metadata": {},
   "outputs": [
    {
     "data": {
      "text/html": [
       "<div>\n",
       "<style scoped>\n",
       "    .dataframe tbody tr th:only-of-type {\n",
       "        vertical-align: middle;\n",
       "    }\n",
       "\n",
       "    .dataframe tbody tr th {\n",
       "        vertical-align: top;\n",
       "    }\n",
       "\n",
       "    .dataframe thead th {\n",
       "        text-align: right;\n",
       "    }\n",
       "</style>\n",
       "<table border=\"1\" class=\"dataframe\">\n",
       "  <thead>\n",
       "    <tr style=\"text-align: right;\">\n",
       "      <th></th>\n",
       "      <th>Date</th>\n",
       "      <th>key</th>\n",
       "      <th>class</th>\n",
       "      <th>expire_time_gmt</th>\n",
       "      <th>obs_id</th>\n",
       "      <th>obs_name</th>\n",
       "      <th>valid_time_gmt</th>\n",
       "      <th>day_ind</th>\n",
       "      <th>temp</th>\n",
       "      <th>wx_icon</th>\n",
       "      <th>...</th>\n",
       "      <th>clds</th>\n",
       "      <th>water_temp</th>\n",
       "      <th>primary_wave_period</th>\n",
       "      <th>primary_wave_height</th>\n",
       "      <th>primary_swell_period</th>\n",
       "      <th>primary_swell_height</th>\n",
       "      <th>primary_swell_direction</th>\n",
       "      <th>secondary_swell_period</th>\n",
       "      <th>secondary_swell_height</th>\n",
       "      <th>secondary_swell_direction</th>\n",
       "    </tr>\n",
       "  </thead>\n",
       "  <tbody>\n",
       "    <tr>\n",
       "      <th>0</th>\n",
       "      <td>2021-11-01 00:53:00</td>\n",
       "      <td>KBNA</td>\n",
       "      <td>observation</td>\n",
       "      <td>1635753180</td>\n",
       "      <td>KBNA</td>\n",
       "      <td>Nashville</td>\n",
       "      <td>1635745980</td>\n",
       "      <td>N</td>\n",
       "      <td>51</td>\n",
       "      <td>26</td>\n",
       "      <td>...</td>\n",
       "      <td>OVC</td>\n",
       "      <td>NaN</td>\n",
       "      <td>NaN</td>\n",
       "      <td>NaN</td>\n",
       "      <td>NaN</td>\n",
       "      <td>NaN</td>\n",
       "      <td>NaN</td>\n",
       "      <td>NaN</td>\n",
       "      <td>NaN</td>\n",
       "      <td>NaN</td>\n",
       "    </tr>\n",
       "    <tr>\n",
       "      <th>1</th>\n",
       "      <td>2021-11-01 01:30:00</td>\n",
       "      <td>KBNA</td>\n",
       "      <td>observation</td>\n",
       "      <td>1635755400</td>\n",
       "      <td>KBNA</td>\n",
       "      <td>Nashville</td>\n",
       "      <td>1635748200</td>\n",
       "      <td>N</td>\n",
       "      <td>50</td>\n",
       "      <td>29</td>\n",
       "      <td>...</td>\n",
       "      <td>SCT</td>\n",
       "      <td>NaN</td>\n",
       "      <td>NaN</td>\n",
       "      <td>NaN</td>\n",
       "      <td>NaN</td>\n",
       "      <td>NaN</td>\n",
       "      <td>NaN</td>\n",
       "      <td>NaN</td>\n",
       "      <td>NaN</td>\n",
       "      <td>NaN</td>\n",
       "    </tr>\n",
       "    <tr>\n",
       "      <th>2</th>\n",
       "      <td>2021-11-01 01:53:00</td>\n",
       "      <td>KBNA</td>\n",
       "      <td>observation</td>\n",
       "      <td>1635756780</td>\n",
       "      <td>KBNA</td>\n",
       "      <td>Nashville</td>\n",
       "      <td>1635749580</td>\n",
       "      <td>N</td>\n",
       "      <td>49</td>\n",
       "      <td>33</td>\n",
       "      <td>...</td>\n",
       "      <td>CLR</td>\n",
       "      <td>NaN</td>\n",
       "      <td>NaN</td>\n",
       "      <td>NaN</td>\n",
       "      <td>NaN</td>\n",
       "      <td>NaN</td>\n",
       "      <td>NaN</td>\n",
       "      <td>NaN</td>\n",
       "      <td>NaN</td>\n",
       "      <td>NaN</td>\n",
       "    </tr>\n",
       "    <tr>\n",
       "      <th>3</th>\n",
       "      <td>2021-11-01 02:53:00</td>\n",
       "      <td>KBNA</td>\n",
       "      <td>observation</td>\n",
       "      <td>1635760380</td>\n",
       "      <td>KBNA</td>\n",
       "      <td>Nashville</td>\n",
       "      <td>1635753180</td>\n",
       "      <td>N</td>\n",
       "      <td>48</td>\n",
       "      <td>33</td>\n",
       "      <td>...</td>\n",
       "      <td>CLR</td>\n",
       "      <td>NaN</td>\n",
       "      <td>NaN</td>\n",
       "      <td>NaN</td>\n",
       "      <td>NaN</td>\n",
       "      <td>NaN</td>\n",
       "      <td>NaN</td>\n",
       "      <td>NaN</td>\n",
       "      <td>NaN</td>\n",
       "      <td>NaN</td>\n",
       "    </tr>\n",
       "    <tr>\n",
       "      <th>4</th>\n",
       "      <td>2021-11-01 03:53:00</td>\n",
       "      <td>KBNA</td>\n",
       "      <td>observation</td>\n",
       "      <td>1635763980</td>\n",
       "      <td>KBNA</td>\n",
       "      <td>Nashville</td>\n",
       "      <td>1635756780</td>\n",
       "      <td>N</td>\n",
       "      <td>47</td>\n",
       "      <td>33</td>\n",
       "      <td>...</td>\n",
       "      <td>CLR</td>\n",
       "      <td>NaN</td>\n",
       "      <td>NaN</td>\n",
       "      <td>NaN</td>\n",
       "      <td>NaN</td>\n",
       "      <td>NaN</td>\n",
       "      <td>NaN</td>\n",
       "      <td>NaN</td>\n",
       "      <td>NaN</td>\n",
       "      <td>NaN</td>\n",
       "    </tr>\n",
       "  </tbody>\n",
       "</table>\n",
       "<p>5 rows × 46 columns</p>\n",
       "</div>"
      ],
      "text/plain": [
       "                  Date   key        class  expire_time_gmt obs_id   obs_name  \\\n",
       "0  2021-11-01 00:53:00  KBNA  observation       1635753180   KBNA  Nashville   \n",
       "1  2021-11-01 01:30:00  KBNA  observation       1635755400   KBNA  Nashville   \n",
       "2  2021-11-01 01:53:00  KBNA  observation       1635756780   KBNA  Nashville   \n",
       "3  2021-11-01 02:53:00  KBNA  observation       1635760380   KBNA  Nashville   \n",
       "4  2021-11-01 03:53:00  KBNA  observation       1635763980   KBNA  Nashville   \n",
       "\n",
       "   valid_time_gmt day_ind  temp  wx_icon  ...  clds water_temp  \\\n",
       "0      1635745980       N    51       26  ...   OVC        NaN   \n",
       "1      1635748200       N    50       29  ...   SCT        NaN   \n",
       "2      1635749580       N    49       33  ...   CLR        NaN   \n",
       "3      1635753180       N    48       33  ...   CLR        NaN   \n",
       "4      1635756780       N    47       33  ...   CLR        NaN   \n",
       "\n",
       "   primary_wave_period primary_wave_height  primary_swell_period  \\\n",
       "0                  NaN                 NaN                   NaN   \n",
       "1                  NaN                 NaN                   NaN   \n",
       "2                  NaN                 NaN                   NaN   \n",
       "3                  NaN                 NaN                   NaN   \n",
       "4                  NaN                 NaN                   NaN   \n",
       "\n",
       "   primary_swell_height  primary_swell_direction  secondary_swell_period  \\\n",
       "0                   NaN                      NaN                     NaN   \n",
       "1                   NaN                      NaN                     NaN   \n",
       "2                   NaN                      NaN                     NaN   \n",
       "3                   NaN                      NaN                     NaN   \n",
       "4                   NaN                      NaN                     NaN   \n",
       "\n",
       "   secondary_swell_height  secondary_swell_direction  \n",
       "0                     NaN                        NaN  \n",
       "1                     NaN                        NaN  \n",
       "2                     NaN                        NaN  \n",
       "3                     NaN                        NaN  \n",
       "4                     NaN                        NaN  \n",
       "\n",
       "[5 rows x 46 columns]"
      ]
     },
     "execution_count": 14,
     "metadata": {},
     "output_type": "execute_result"
    }
   ],
   "source": [
    "bna.head()"
   ]
  },
  {
   "cell_type": "code",
   "execution_count": 36,
   "metadata": {},
   "outputs": [],
   "source": [
    "import calendar\n",
    "from datetime import date\n",
    "from datetime import datetime"
   ]
  },
  {
   "cell_type": "code",
   "execution_count": 37,
   "metadata": {},
   "outputs": [],
   "source": [
    "wego['DATE'] =  pd.to_datetime(wego['DATE'])"
   ]
  },
  {
   "cell_type": "code",
   "execution_count": 38,
   "metadata": {},
   "outputs": [],
   "source": [
    "wego['WEEKDAY'] = [calendar.day_name[x.weekday()] for x in wego['DATE']]"
   ]
  },
  {
   "cell_type": "code",
   "execution_count": 42,
   "metadata": {},
   "outputs": [
    {
     "name": "stdout",
     "output_type": "stream",
     "text": [
      "BLOCK_STOP_ORDER\n"
     ]
    }
   ],
   "source": [
    "print('BLOCK_STOP_ORDER')"
   ]
  },
  {
   "cell_type": "code",
   "execution_count": null,
   "metadata": {},
   "outputs": [],
   "source": []
  }
 ],
 "metadata": {
  "kernelspec": {
   "display_name": "Python 3",
   "language": "python",
   "name": "python3"
  },
  "language_info": {
   "codemirror_mode": {
    "name": "ipython",
    "version": 3
   },
   "file_extension": ".py",
   "mimetype": "text/x-python",
   "name": "python",
   "nbconvert_exporter": "python",
   "pygments_lexer": "ipython3",
   "version": "3.8.3"
  }
 },
 "nbformat": 4,
 "nbformat_minor": 4
}
